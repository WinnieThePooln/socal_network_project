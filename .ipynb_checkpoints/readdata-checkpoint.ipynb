{
 "cells": [
  {
   "cell_type": "code",
   "execution_count": 7,
   "id": "8df99ba9",
   "metadata": {},
   "outputs": [
    {
     "name": "stdout",
     "output_type": "stream",
     "text": [
      "(200, 5)\n",
      "                  user_id             business_id  \\\n",
      "0  AGNUgVwnZUey3gcPCJ76iw  3uLgwr0qeCNMjKenHJwPGQ   \n",
      "1  NBN4MgHP9D3cw--SnauTkA  QoezRbYQncpRqyrLH6Iqjg   \n",
      "2  -copOvldyKh1qr-vzkDEvw  MYoRNLb5chwjQe3c_k37Gg   \n",
      "3  FjMQVZjSqY8syIO-53KFKw  hV-bABTK-glh5wj31ps_Jw   \n",
      "4  ld0AperBXk1h6UbqmM80zw  _uN0OudeJ3Zl_tf6nxg5ww   \n",
      "\n",
      "                                                text           tips_date  \\\n",
      "0                     Avengers time with the ladies. 2012-05-18 02:17:21   \n",
      "1  They have lots of good deserts and tasty cuban... 2013-02-05 18:35:10   \n",
      "2             It's open even when you think it isn't 2013-08-18 00:56:08   \n",
      "3                          Very decent fried chicken 2017-06-27 23:05:38   \n",
      "4             Appetizers.. platter special for lunch 2012-10-06 19:43:09   \n",
      "\n",
      "   compliment_count  \n",
      "0                 0  \n",
      "1                 0  \n",
      "2                 0  \n",
      "3                 0  \n",
      "4                 0  \n"
     ]
    }
   ],
   "source": [
    "import pandas as pd\n",
    "\n",
    "\n",
    "fr = open(r'C:\\Users\\11046\\Desktop\\yelp_dataset-2\\yelp_academic_dataset_tip.json', 'r', encoding='utf-8')\n",
    "json_info = fr.read()\n",
    "tips_df = pd.read_json(json_info, lines=True)\n",
    "tips_df = tips_df[: 200]\n",
    "tips_df.to_csv('yelp_academic_dataset_tip.csv', index=False, columns=[\"text\", \"date\", \"compliment_count\", \"business_id\", \"user_id\"])\n",
    "tips_df.rename(columns = {'date' : 'tips_date'}, inplace = True)\n",
    "print(tips_df.shape)\n",
    "print(tips_df[:5])"
   ]
  },
  {
   "cell_type": "code",
   "execution_count": 19,
   "id": "6ca30b5a",
   "metadata": {},
   "outputs": [
    {
     "name": "stdout",
     "output_type": "stream",
     "text": [
      "(143, 9)\n",
      "                review_id                 user_id             business_id  \\\n",
      "0  dTr-7y6FCf-EUgvAt-XYEQ  JW_742Kc_BeN-tvACR88ew  f06mf_7bT8FibS2UejNrfg   \n",
      "1  ydXJhVuaE6r7kN1niSqA1w  iyocBf1XVHvsr3SZMpfSnA  BMMcP9fBunmTyYY6XdtQtw   \n",
      "2  NyJwwd6Ylajd9sVAaIZ9Iw  s2Bm2i1w24_xgBhPw9xzlA  gZqFuqTjtN4Bfh-_fO315w   \n",
      "3  lLc72XgWAGoWXVI3iGydRw  vr-Rw3nMKIgGrVNT6A7p9g  tQYOAfl33tmP4oWpfyRr6g   \n",
      "4  BIrLDhcGSnGoj7tRz4pC4w  u8YXsT2UCNlIlGHS3LAmPg  iI090K0JMViyPPh7Viovrg   \n",
      "\n",
      "   stars  useful  funny  cool  \\\n",
      "0      5       2      1     1   \n",
      "1      1       0      0     0   \n",
      "2      5       1      0     0   \n",
      "3      5       0      0     0   \n",
      "4      4       0      0     0   \n",
      "\n",
      "                                                text         review_date  \n",
      "0  Great store. Insane selection. Incredible cust... 2012-06-26 05:06:01  \n",
      "1  LYING SCAMMERS. BAIT AND SWITCH. Will try and ... 2018-01-10 01:35:47  \n",
      "2  Very impressed with this place! The food was a... 2018-06-19 15:52:49  \n",
      "3  Although there are countless little Mexican pl... 2014-10-27 15:39:17  \n",
      "4  I met a buddy mine at this spot that I have al... 2016-12-04 04:05:44  \n"
     ]
    }
   ],
   "source": [
    "fr = open(r'C:\\Users\\11046\\Desktop\\yelp_dataset-2\\small_review.json', 'r', encoding='utf-8')\n",
    "json_info = fr.read()\n",
    "rv_df = pd.read_json(json_info, lines=True)\n",
    "rv_df = rv_df[: 200]\n",
    "rv_df.to_csv('yelp_academic_dataset_tip.csv', index=False, columns=[\"review_id\", \"user_id\", \"business_id\", \"stars\",\n",
    "                                                                 \"date\", \"text\", \"useful\", \"funny\", \"cool\"])\n",
    "rv_df = rv_df[:200]\n",
    "rv_df.rename(columns = {'date' : 'review_date'}, inplace = True)\n",
    "print(rv_df.shape)\n",
    "print(rv_df[:5]) "
   ]
  },
  {
   "cell_type": "code",
   "execution_count": 47,
   "id": "b8379b92",
   "metadata": {},
   "outputs": [
    {
     "name": "stdout",
     "output_type": "stream",
     "text": [
      "(200, 22)\n",
      "                  user_id   name  review_count        yelping_since  useful  \\\n",
      "0  2WnXYQFK0hXEoTxPtV2zvg  Steph           665  2008-07-25 10:41:00    2086   \n",
      "1  SZDeASXq7o05mMNLshsdIA   Gwen           224  2005-11-29 04:38:33     512   \n",
      "2  hA5lMy-EnncsH4JoR-hFGQ  Karen            79  2007-01-05 19:40:59      29   \n",
      "3  q_QQ5kBBwlCcbL1s4NVK3g   Jane          1221  2005-03-14 20:26:35   14953   \n",
      "4  cxuxXkcihfCbqt5Byrup8Q    Rob            12  2009-02-24 03:09:06       6   \n",
      "\n",
      "   funny   cool                                         elite  \\\n",
      "0   1010   1003                      2009,2010,2011,2012,2013   \n",
      "1    330    299                                2009,2010,2011   \n",
      "2     15      7                                                 \n",
      "3   9940  11211  2006,2007,2008,2009,2010,2011,2012,2013,2014   \n",
      "4      1      0                                                 \n",
      "\n",
      "                                             friends  fans  ...  \\\n",
      "0  LuO3Bn4f3rlhyHIaNfTlnA, j9B4XdHUhDfTKVecyWQgyA...    52  ...   \n",
      "1  enx1vVPnfdNUdPho6PH_wg, 4wOcvMLtU6a9Lslggq74Vg...    28  ...   \n",
      "2  PBK4q9KEEBHhFvSXCUirIw, 3FWPpM7KU1gXeOM_ZbYMbA...     1  ...   \n",
      "3  xBDpTUbai0DXrvxCe3X16Q, 7GPNBO496aecrjJfW6UWtg...  1357  ...   \n",
      "4  HDAQ74AEznP-YsMk1B14CA, 6A6-aIX7fg_zRy9MiE6YyQ...     1  ...   \n",
      "\n",
      "   compliment_more  compliment_profile  compliment_cute  compliment_list  \\\n",
      "0               13                  10               17                3   \n",
      "1                4                   1                6                2   \n",
      "2                1                   0                0                0   \n",
      "3              163                 191              361              147   \n",
      "4                0                   0                0                0   \n",
      "\n",
      "   compliment_note  compliment_plain  compliment_cool  compliment_funny  \\\n",
      "0               66                96              119               119   \n",
      "1               12                16               26                26   \n",
      "2                1                 1                0                 0   \n",
      "3             1212              5696             2543              2543   \n",
      "4                0                 1                0                 0   \n",
      "\n",
      "   compliment_writer  compliment_photos  \n",
      "0                 35                 18  \n",
      "1                 10                  9  \n",
      "2                  0                  0  \n",
      "3                815                323  \n",
      "4                  0                  0  \n",
      "\n",
      "[5 rows x 22 columns]\n"
     ]
    }
   ],
   "source": [
    "fr = open(r'C:\\Users\\11046\\Desktop\\yelp_dataset-2\\small_user.json', 'r', encoding='utf-8')\n",
    "json_info = fr.read()\n",
    "user_df = pd.read_json(json_info, lines=True)\n",
    "user_df = user_df[: 200]\n",
    "user_df.to_csv('yelp_academic_dataset_tip.csv', index=False, columns=[\"user_id\", \"name\", \"review_count\", \"yelping_since\", \"friends\",\n",
    "                                                                 \"useful\", \"funny\", \"cool\", \"fans\", \"elite\", \"average_stars\"\n",
    "                                                                 , \"compliment_hot\", \"compliment_more\", \"compliment_profile\",\n",
    "                                                                 \"compliment_cute\", \"compliment_list\", \"compliment_note\",\n",
    "                                                                 \"compliment_plain\", \"compliment_cool\", \"compliment_funny\",\n",
    "                                                                 \"compliment_writer\", \"compliment_photos\"])\n",
    "print(user_df.shape)\n",
    "print(user_df[:5])"
   ]
  },
  {
   "cell_type": "code",
   "execution_count": 48,
   "id": "b7e7010a",
   "metadata": {},
   "outputs": [],
   "source": [
    "import matplotlib.pyplot as plt\n",
    "import networkx\n",
    "import numpy as np\n",
    "import networkx as nx\n",
    "\n",
    "#df_graph = user_df[[\"user_id\", \"friends\"]]\n",
    "user_df.insert(0, \"num_of_friends\", -1)\n",
    "user_df.insert(0, \"elite_years\", -1)"
   ]
  },
  {
   "cell_type": "code",
   "execution_count": 56,
   "id": "2381eec0",
   "metadata": {},
   "outputs": [
    {
     "name": "stdout",
     "output_type": "stream",
     "text": [
      "   elite_years  num_of_friends                 user_id   name  review_count  \\\n",
      "0            5             381  2WnXYQFK0hXEoTxPtV2zvg  Steph           665   \n",
      "1            3             131  SZDeASXq7o05mMNLshsdIA   Gwen           224   \n",
      "2            1              27  hA5lMy-EnncsH4JoR-hFGQ  Karen            79   \n",
      "3            9            5843  q_QQ5kBBwlCcbL1s4NVK3g   Jane          1221   \n",
      "4            1              23  cxuxXkcihfCbqt5Byrup8Q    Rob            12   \n",
      "\n",
      "         yelping_since  useful  funny   cool  \\\n",
      "0  2008-07-25 10:41:00    2086   1010   1003   \n",
      "1  2005-11-29 04:38:33     512    330    299   \n",
      "2  2007-01-05 19:40:59      29     15      7   \n",
      "3  2005-03-14 20:26:35   14953   9940  11211   \n",
      "4  2009-02-24 03:09:06       6      1      0   \n",
      "\n",
      "                                          elite  ... compliment_more  \\\n",
      "0                      2009,2010,2011,2012,2013  ...              13   \n",
      "1                                2009,2010,2011  ...               4   \n",
      "2                                                ...               1   \n",
      "3  2006,2007,2008,2009,2010,2011,2012,2013,2014  ...             163   \n",
      "4                                                ...               0   \n",
      "\n",
      "   compliment_profile  compliment_cute  compliment_list  compliment_note  \\\n",
      "0                  10               17                3               66   \n",
      "1                   1                6                2               12   \n",
      "2                   0                0                0                1   \n",
      "3                 191              361              147             1212   \n",
      "4                   0                0                0                0   \n",
      "\n",
      "   compliment_plain  compliment_cool  compliment_funny  compliment_writer  \\\n",
      "0                96              119               119                 35   \n",
      "1                16               26                26                 10   \n",
      "2                 1                0                 0                  0   \n",
      "3              5696             2543              2543                815   \n",
      "4                 1                0                 0                  0   \n",
      "\n",
      "   compliment_photos  \n",
      "0                 18  \n",
      "1                  9  \n",
      "2                  0  \n",
      "3                323  \n",
      "4                  0  \n",
      "\n",
      "[5 rows x 24 columns]\n",
      "   num_of_friends  review_count  useful  funny   cool  elite_years  fans\n",
      "0             381           665    2086   1010   1003            5    52\n",
      "1             131           224     512    330    299            3    28\n",
      "2              27            79      29     15      7            1     1\n",
      "3            5843          1221   14953   9940  11211            9  1357\n",
      "4              23            12       6      1      0            1     1\n"
     ]
    }
   ],
   "source": [
    "for row in user_df.itertuples():\n",
    "    #print(row)\n",
    "    idx = row[0]\n",
    "    friends = len(row[11].split(\",\"))\n",
    "    elite_years = len(row[10].split(\",\"))\n",
    "    #print(friends)\n",
    "    #print(elite_years)\n",
    "    user_df.loc[user_df.index == idx,'num_of_friends'] = friends\n",
    "    user_df.loc[user_df.index == idx,'elite_years'] = elite_years\n",
    "    \n",
    "print(user_df[:5])\n",
    "cluster_df = user_df[[\"num_of_friends\", \"review_count\", \"useful\", \"funny\", \"cool\", \"elite_years\", \"fans\"]]\n",
    "print(cluster_df[:5])"
   ]
  },
  {
   "cell_type": "code",
   "execution_count": 78,
   "id": "e8bcd141",
   "metadata": {},
   "outputs": [
    {
     "data": {
      "text/plain": [
       "KMeans(max_iter=200, n_clusters=5)"
      ]
     },
     "execution_count": 78,
     "metadata": {},
     "output_type": "execute_result"
    }
   ],
   "source": [
    "from sklearn.cluster import KMeans\n",
    "from sklearn import cluster\n",
    "import matplotlib.pyplot as plt\n",
    "model = cluster.KMeans(n_clusters = 5, max_iter=200, init=\"k-means++\")\n",
    "model.fit(cluster_df)"
   ]
  },
  {
   "cell_type": "code",
   "execution_count": 79,
   "id": "c80dd034",
   "metadata": {},
   "outputs": [
    {
     "name": "stderr",
     "output_type": "stream",
     "text": [
      "c:\\users\\11046\\pycharmprojects\\pythonproject\\venv\\lib\\site-packages\\sklearn\\manifold\\_t_sne.py:780: FutureWarning: The default initialization in TSNE will change from 'random' to 'pca' in 1.2.\n",
      "  warnings.warn(\n",
      "c:\\users\\11046\\pycharmprojects\\pythonproject\\venv\\lib\\site-packages\\sklearn\\manifold\\_t_sne.py:790: FutureWarning: The default learning rate in TSNE will change from 200.0 to 'auto' in 1.2.\n",
      "  warnings.warn(\n"
     ]
    }
   ],
   "source": [
    "from sklearn.manifold import TSNE\n",
    "\n",
    "data_TSNE = TSNE(n_components=2).fit_transform(cluster_df)"
   ]
  },
  {
   "cell_type": "code",
   "execution_count": 80,
   "id": "3d1a0e68",
   "metadata": {},
   "outputs": [
    {
     "name": "stdout",
     "output_type": "stream",
     "text": [
      "kmeans value [4 0 0 3 0 0 0 0 0 0 0 0 0 4 0 0 4 0 0 0 0 3 4 0 0 0 0 4 0 0 3 0 0 0 0 4 3\n",
      " 4 0 0 0 0 0 0 0 0 0 0 0 0 0 0 0 3 3 4 0 0 0 4 0 0 0 0 0 0 0 4 0 0 0 0 2 0\n",
      " 0 0 0 0 0 0 3 3 0 0 0 0 0 0 0 0 0 0 0 0 0 0 0 4 4 0 0 4 0 1 0 0 0 0 0 4 0\n",
      " 0 0 0 0 1 0 0 0 0 4 0 0 0 0 0 0 0 4 0 0 0 0 0 2 0 4 0 0 0 0 0 0 0 0 0 0 0\n",
      " 0 0 1 4 4 0 0 0 4 4 0 0 4 4 0 0 4 0 0 0 0 0 0 3 4 4 4 4 0 0 0 0 0 4 0 0 4\n",
      " 0 0 0 0 4 0 0 0 0 0 0 0 4 4 1]\n"
     ]
    },
    {
     "data": {
      "image/png": "[encoded data removed]",
      "text/plain": [
       "<Figure size 432x288 with 1 Axes>"
      ]
     },
     "metadata": {
      "needs_background": "light"
     },
     "output_type": "display_data"
    }
   ],
   "source": [
    "x1_axis = data_TSNE[:,0]\n",
    "x2_axis = data_TSNE[:,1]\n",
    "predicted = model.predict(cluster_df)\n",
    "print('kmeans value',predicted)\n",
    "plt.scatter(x1_axis, x2_axis, c=predicted)#marker='s', s=100, cmap=plt.cm.Paired)\n",
    "plt.title(\"KMeans\")\n",
    "plt.show()"
   ]
  },
  {
   "cell_type": "code",
   "execution_count": null,
   "id": "d4f0fc1a",
   "metadata": {},
   "outputs": [],
   "source": []
  }
 ],
 "metadata": {
  "kernelspec": {
   "display_name": "Python 3 (ipykernel)",
   "language": "python",
   "name": "python3"
  },
  "language_info": {
   "codemirror_mode": {
    "name": "ipython",
    "version": 3
   },
   "file_extension": ".py",
   "mimetype": "text/x-python",
   "name": "python",
   "nbconvert_exporter": "python",
   "pygments_lexer": "ipython3",
   "version": "3.9.5"
  }
 },
 "nbformat": 4,
 "nbformat_minor": 5
}
